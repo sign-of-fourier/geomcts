{
 "cells": [
  {
   "cell_type": "code",
   "execution_count": 2,
   "id": "e92c403c-333e-4e15-8548-846748698f2d",
   "metadata": {},
   "outputs": [],
   "source": [
    "import os\n",
    "from geomcts import bayes"
   ]
  },
  {
   "cell_type": "code",
   "execution_count": 3,
   "id": "6193e477-12f6-4333-b203-4a3d0105286b",
   "metadata": {},
   "outputs": [],
   "source": [
    "os.environ['OPENAI_KEY'] = '<Your Token>'\n",
    "os.environ['COHERE_KEY'] = '<Your Token>'\n",
    "os.environ['X_RapidAPI_KEY'] = '<Your Token>'"
   ]
  },
  {
   "cell_type": "code",
   "execution_count": 4,
   "id": "bceaa6ff-0758-4658-ac3a-f38046e4d58e",
   "metadata": {},
   "outputs": [],
   "source": [
    "topic = 'What are the comparative differences between the Denver Broncos and the Green Bay Packers with easy to understand steps.'"
   ]
  },
  {
   "cell_type": "code",
   "execution_count": 5,
   "id": "9dbf7345-7784-4d0b-9eaa-b3f883ea0305",
   "metadata": {},
   "outputs": [],
   "source": [
    "Tree = bayes.initial_Tree(topic, 5)"
   ]
  },
  {
   "cell_type": "code",
   "execution_count": 6,
   "id": "a3955d64-3d84-4a3e-be9b-95074d06c718",
   "metadata": {},
   "outputs": [],
   "source": [
    "scores = bayes.roll_and_rank_tree(Tree, depth=4)"
   ]
  },
  {
   "cell_type": "code",
   "execution_count": 7,
   "id": "22c985f1-d4ca-435f-906d-e6efbdc2cd8c",
   "metadata": {},
   "outputs": [
    {
     "name": "stdout",
     "output_type": "stream",
     "text": [
      "[5, 55]\n"
     ]
    },
    {
     "data": {
      "text/plain": [
       "63"
      ]
     },
     "execution_count": 7,
     "metadata": {},
     "output_type": "execute_result"
    }
   ],
   "source": [
    "bayes.iterate(Tree, 2, 20)"
   ]
  },
  {
   "cell_type": "code",
   "execution_count": 9,
   "id": "e6cb9f83-407d-4f4a-91e1-cc1a4ae406fc",
   "metadata": {},
   "outputs": [],
   "source": [
    "best, worst = bayes.best_worst(Tree)"
   ]
  },
  {
   "cell_type": "code",
   "execution_count": 10,
   "id": "243135a8-700e-4044-a5df-a170279bb7d0",
   "metadata": {},
   "outputs": [
    {
     "data": {
      "text/plain": [
       "(0.97108805, 0.9436445)"
      ]
     },
     "execution_count": 10,
     "metadata": {},
     "output_type": "execute_result"
    }
   ],
   "source": [
    "best.relevance, worst.relevance"
   ]
  },
  {
   "cell_type": "code",
   "execution_count": null,
   "id": "4edf95d2-dc10-4ec9-bd5b-2d3ed7ee5697",
   "metadata": {},
   "outputs": [],
   "source": []
  }
 ],
 "metadata": {
  "kernelspec": {
   "display_name": "Python 3 (ipykernel)",
   "language": "python",
   "name": "python3"
  },
  "language_info": {
   "codemirror_mode": {
    "name": "ipython",
    "version": 3
   },
   "file_extension": ".py",
   "mimetype": "text/x-python",
   "name": "python",
   "nbconvert_exporter": "python",
   "pygments_lexer": "ipython3",
   "version": "3.11.11"
  }
 },
 "nbformat": 4,
 "nbformat_minor": 5
}
